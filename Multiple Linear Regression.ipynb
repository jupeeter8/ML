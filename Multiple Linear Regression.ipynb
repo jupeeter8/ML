{
 "cells": [
  {
   "attachments": {},
   "cell_type": "markdown",
   "metadata": {},
   "source": [
    "## Goals\n",
    "In this lab, I will use numpy library to do the following\n",
    "- Create numpy n-d arrays.\n",
    "- Use vectorization to run code fater\n",
    "- Create Example dataset with multiple feature\n",
    "- Compute cost function\n",
    "- Make predictions"
   ]
  },
  {
   "cell_type": "code",
   "execution_count": 1,
   "metadata": {},
   "outputs": [],
   "source": [
    "import numpy as np\n",
    "import matplotlib.pyplot as plt\n",
    "from numba import jit"
   ]
  },
  {
   "cell_type": "code",
   "execution_count": 2,
   "metadata": {},
   "outputs": [
    {
     "name": "stdout",
     "output_type": "stream",
     "text": [
      "a = [0. 0. 0. 0.] | Shape of a: (4,)\n",
      "\n",
      "a = [0. 0. 0. 0.] | Shape of a: (4,)\n",
      "\n",
      "a = [0.16214352 0.94586782 0.72622261 0.48951348] | Shape of a: (4,)\n",
      "\n",
      "a = [[0.19238979 0.31614875]\n",
      " [0.28324386 0.54113344]\n",
      " [0.13027013 0.56050377]\n",
      " [0.54326675 0.50080563]\n",
      " [0.81637526 0.26186596]] | Shape of a: (5, 2)\n",
      "\n"
     ]
    }
   ],
   "source": [
    "# Creating np arrays\n",
    "# These functions take shape as input\n",
    "\n",
    "a = np.zeros(4) # vector of 0s of size 4\n",
    "print(f\"a = {a} | Shape of a: {a.shape}\\n\")\n",
    "\n",
    "a = np.zeros((4, )) # Takes a tupple of row and colums\n",
    "print(f\"a = {a} | Shape of a: {a.shape}\\n\")\n",
    "\n",
    "a = np.random.random_sample(4) # Vetor of random floats in the interval [0.0, 1.0)\n",
    "print(f\"a = {a} | Shape of a: {a.shape}\\n\")\n",
    "\n",
    "a = np.random.random_sample((5, 2)) # Vetor of random floats in the interval [0.0, 1.0)\n",
    "print(f\"a = {a} | Shape of a: {a.shape}\\n\")\n",
    "\n"
   ]
  },
  {
   "cell_type": "code",
   "execution_count": 4,
   "metadata": {},
   "outputs": [
    {
     "name": "stdout",
     "output_type": "stream",
     "text": [
      "a = [0 1 2 3 4 5 6 7 8 9] | Shape of a: (10,)\n",
      "\n",
      "a = [0.86450125 0.36373211 0.35720421 0.01454646 0.83068784] | Shape of a: (5,)\n",
      "\n"
     ]
    }
   ],
   "source": [
    "# Creating np arrays\n",
    "# These methods dont take shape as an input\n",
    "\n",
    "a = np.arange(10) # Vector in range [0, 10)\n",
    "print(f\"a = {a} | Shape of a: {a.shape}\\n\")\n",
    "\n",
    "a = np.random.rand(5) # 1-D Vector in range [0.0, 1.0)\n",
    "print(f\"a = {a} | Shape of a: {a.shape}\\n\")\n",
    "\n"
   ]
  },
  {
   "attachments": {},
   "cell_type": "markdown",
   "metadata": {},
   "source": [
    "##### Indexing and Slicing Operations On Numpy Arrays\n",
    "1. Indexing"
   ]
  },
  {
   "cell_type": "code",
   "execution_count": 5,
   "metadata": {},
   "outputs": [
    {
     "name": "stdout",
     "output_type": "stream",
     "text": [
      "a = [ 0  1  2  3  4  5  6  7  8  9 10 11 12 13 14 15 16 17 18 19]\n",
      "\n",
      "a[2] = 2\n",
      "\n",
      "a[-1] returns last element: 19\n",
      "\n"
     ]
    }
   ],
   "source": [
    "# Create np array and perform Indexing\n",
    "a = np.arange(20)\n",
    "print(f\"a = {a}\\n\")\n",
    "\n",
    "# Accessing an element returns a scalar\n",
    "print(f\"a[2] = {a[2]}\\n\")\n",
    "\n",
    "# Using negative numbers access numbers from the end of the arrays\n",
    "print(f\"a[-1] returns last element: {a[-1]}\\n\")"
   ]
  },
  {
   "attachments": {},
   "cell_type": "markdown",
   "metadata": {},
   "source": [
    "##### Now we will perform slicing\n",
    "2. Slicing"
   ]
  },
  {
   "cell_type": "code",
   "execution_count": 6,
   "metadata": {},
   "outputs": [
    {
     "name": "stdout",
     "output_type": "stream",
     "text": [
      "a = [ 0  1  2  3  4  5  6  7  8  9 10 11 12 13 14 15 16 17 18 19]\n",
      "\n",
      "a[3:12:1] = [ 3  4  5  6  7  8  9 10 11]\n",
      "\n",
      "a[3:12:2] = [ 3  5  7  9 11]\n",
      "\n",
      "a[3::] = [ 3  4  5  6  7  8  9 10 11 12 13 14 15 16 17 18 19]\n",
      "\n",
      "a[:3] = [0 1 2]\n",
      "\n",
      "a[3:12:1] = [ 0  1  2  3  4  5  6  7  8  9 10 11 12 13 14 15 16 17 18 19]\n",
      "\n"
     ]
    }
   ],
   "source": [
    "print(f\"a = {a}\\n\")\n",
    "# a[start:stop:step]\n",
    "\n",
    "c = a[3:12:1] # Start at index 3 and go 11\n",
    "print(f\"a[3:12:1] = {c}\\n\")\n",
    "\n",
    "# Accessing 5 elements seperated by 2\n",
    "c = a[3:12:2]\n",
    "print(f\"a[3:12:2] = {c}\\n\")\n",
    "\n",
    "# Accessing all elements 3 and above\n",
    "c = a[3::]\n",
    "print(f\"a[3::] = {c}\\n\")\n",
    "\n",
    "# Accessing all elements below index 3\n",
    "c = a[:3]\n",
    "print(f\"a[:3] = {c}\\n\")\n",
    "\n",
    "# Access all elements\n",
    "c = a[:]\n",
    "print(f\"a[3:12:1] = {c}\\n\")"
   ]
  },
  {
   "cell_type": "code",
   "execution_count": 7,
   "metadata": {},
   "outputs": [
    {
     "name": "stdout",
     "output_type": "stream",
     "text": [
      "[1 2 4]\n",
      "b = [-1 -2 -4]\n",
      "\n",
      "Sum of a is 7\n",
      "\n",
      "Mean of a is 2.3333333333333335\n",
      "square of a is [ 1  4 16]\n"
     ]
    }
   ],
   "source": [
    "a = np.array([1, 2, 4])\n",
    "print(a)\n",
    "\n",
    "b = -a\n",
    "print(f\"b = {b}\\n\")\n",
    "\n",
    "b = np.sum(a)\n",
    "print(f\"Sum of a is {b}\\n\")\n",
    "\n",
    "\n",
    "b = np.mean(a)\n",
    "print(f\"Mean of a is {b}\")\n",
    "\n",
    "b = a**2\n",
    "print(f\"square of a is {b}\")"
   ]
  },
  {
   "attachments": {},
   "cell_type": "markdown",
   "metadata": {},
   "source": [
    "### Dot Products of vectors\n",
    "In this section we will perform dot product of two Numpy vectors by two different methods\n",
    "1. `for loop`\n",
    "2. `np.dot()` method\n",
    "\n"
   ]
  },
  {
   "cell_type": "code",
   "execution_count": 8,
   "metadata": {},
   "outputs": [],
   "source": [
    "def dot_matrix(a, b) -> int:\n",
    "    \"\"\"\n",
    "    Funtion takes two Numpy array and returns\n",
    "    the sum products of all elements\n",
    "    \"\"\"\n",
    "    res = 0\n",
    "\n",
    "    for i in range(a.shape[0]):\n",
    "        res = res + a[i]  * b[i]\n",
    "    \n",
    "    return res"
   ]
  },
  {
   "cell_type": "code",
   "execution_count": 9,
   "metadata": {},
   "outputs": [
    {
     "name": "stdout",
     "output_type": "stream",
     "text": [
      "dot_matrix(a, b) = 1.4330598448459555\n",
      "np.dot(a, b) = 1.4330598448459555\n"
     ]
    }
   ],
   "source": [
    "# Testing the code\n",
    "np.random.seed(1)\n",
    "a = np.random.rand(10)\n",
    "b = np.random.rand(10)\n",
    "\n",
    "# Using our function\n",
    "print(f\"dot_matrix(a, b) = {dot_matrix(a, b)}\")\n",
    "\n",
    "# Using np.dot()\n",
    "\n",
    "print(f\"np.dot(a, b) = {np.dot(a, b)}\")"
   ]
  },
  {
   "attachments": {},
   "cell_type": "markdown",
   "metadata": {},
   "source": [
    "##### Product of really big vectors\n",
    "We can see the time differnce for the two methods if we use really big vectors"
   ]
  },
  {
   "cell_type": "code",
   "execution_count": 10,
   "metadata": {},
   "outputs": [
    {
     "name": "stdout",
     "output_type": "stream",
     "text": [
      "dot_matrix(a, b) = 2501075.2991275922. Time taken = 2434.265613555908ms\n",
      "np.dot(a, b) = 2501075.2991275406. Time taken = 9.094953536987305ms\n"
     ]
    }
   ],
   "source": [
    "import time\n",
    "a = np.random.rand(10000000)\n",
    "b = np.random.rand(10000000)\n",
    "\n",
    "# Using Our funciton\n",
    "tic = time.time()\n",
    "c = dot_matrix(a, b)\n",
    "toc = time.time()\n",
    "print(f\"dot_matrix(a, b) = {c}. Time taken = {(toc-tic) * 1000}ms\")\n",
    "\n",
    "# Using np.dot()\n",
    "\n",
    "tic = time.time()\n",
    "c = np.dot(a, b)\n",
    "toc = time.time()\n",
    "print(f\"np.dot(a, b) = {c}. Time taken = {(toc-tic) * 1000}ms\")"
   ]
  },
  {
   "attachments": {},
   "cell_type": "markdown",
   "metadata": {},
   "source": [
    "### Multiple Linear Regression\n",
    "In this section we will:\n",
    "- Implement multiple linear regression\n",
    "- Calculate cost\n",
    "- Implement Gradient Descent\n"
   ]
  },
  {
   "cell_type": "code",
   "execution_count": 3,
   "metadata": {},
   "outputs": [],
   "source": [
    "# Each row contains size, bedroom, floor age\n",
    "X_train = np.array([[2104, 5, 1, 45], [1416, 3, 2, 40], [852, 2, 1, 35]])\n",
    "\n",
    "# Column vector of prices for each row\n",
    "y_train = np.array([460, 232, 178])"
   ]
  },
  {
   "cell_type": "code",
   "execution_count": 4,
   "metadata": {},
   "outputs": [
    {
     "name": "stdout",
     "output_type": "stream",
     "text": [
      "x_train dimensions: (3, 4)\n",
      "Y_train dimensions: [460 232 178]\n"
     ]
    }
   ],
   "source": [
    "print(f\"x_train dimensions: {X_train.shape}\")\n",
    "print(f\"Y_train dimensions: {y_train}\")"
   ]
  },
  {
   "attachments": {},
   "cell_type": "markdown",
   "metadata": {},
   "source": [
    "##### Parameters w and b\n",
    "In this section we will define values of vector w and b"
   ]
  },
  {
   "cell_type": "code",
   "execution_count": 5,
   "metadata": {},
   "outputs": [
    {
     "name": "stdout",
     "output_type": "stream",
     "text": [
      "w = [  0.3  18.5   7.  -10. ] | shape of w vector = (4,)\n",
      "Value of b = 700\n"
     ]
    }
   ],
   "source": [
    "w = np.array([0.3, 18.5, 7, -10])\n",
    "b = 700\n",
    "print(f\"w = {w} | shape of w vector = {w.shape}\")\n",
    "print(f\"Value of b = {b}\")"
   ]
  },
  {
   "attachments": {},
   "cell_type": "markdown",
   "metadata": {},
   "source": [
    "##### Let's make a prediction\n",
    "We will try to predict price of a house using on of our training examples by two methods\n",
    "- using `for loop`\n",
    "- using `np.dot()` method"
   ]
  },
  {
   "cell_type": "code",
   "execution_count": 6,
   "metadata": {},
   "outputs": [],
   "source": [
    "# Predecting values using for loop\n",
    "\n",
    "def f_x(x, w, b):\n",
    "    n = x.shape[0] # Getting the total number of features\n",
    "    val_tot = 0\n",
    "    for i in range(n):\n",
    "        val = w[i] * x[i] # Product of current feature with corrospondig weight: [w1x1 + w2x2 .. wnxn] + b\n",
    "        val_tot += val\n",
    "    val_tot += b\n",
    "    return val_tot"
   ]
  },
  {
   "cell_type": "code",
   "execution_count": 7,
   "metadata": {},
   "outputs": [],
   "source": [
    "def get_fwb(x, w, b):\n",
    "    return np.dot(w, x) + b"
   ]
  },
  {
   "cell_type": "code",
   "execution_count": 8,
   "metadata": {},
   "outputs": [
    {
     "name": "stdout",
     "output_type": "stream",
     "text": [
      "x^1 = [2104    5    1   45]. Shape of x = (4,)\n",
      "\n",
      "Prediction using for loop = 980.6999999999999\n",
      "Prediction using np.dot() = 980.6999999999999\n"
     ]
    }
   ],
   "source": [
    "# Selecting a row form X_train (ith training example)\n",
    "x = X_train[0, :]\n",
    "print(f\"x^1 = {x}. Shape of x = {x.shape}\\n\")\n",
    "\n",
    "print(f\"Prediction using for loop = {f_x(x, w, b)}\")\n",
    "print(f\"Prediction using np.dot() = {get_fwb(x, w, b)}\")"
   ]
  },
  {
   "cell_type": "code",
   "execution_count": 9,
   "metadata": {},
   "outputs": [
    {
     "name": "stdout",
     "output_type": "stream",
     "text": [
      "w = [  0.3  18.5   7.  -10. ] | b = b700\n",
      "f_wb = [980.7 794.3 649.6]\n"
     ]
    }
   ],
   "source": [
    "# Predicting all values\n",
    "m = X_train.shape[0]\n",
    "f_wb = np.zeros(m)\n",
    "\n",
    "for i in range(m):\n",
    "    x = X_train[i, :] # Predicting values of ith traing example based on current model: vector w and constant b\n",
    "    f_wb[i] = get_fwb(x, w, b)\n",
    "print(f\"w = {w} | b = b{b}\")\n",
    "print(f\"f_wb = {f_wb}\")\n"
   ]
  },
  {
   "attachments": {},
   "cell_type": "markdown",
   "metadata": {},
   "source": [
    "### Compute cost for Multiple variables"
   ]
  },
  {
   "cell_type": "code",
   "execution_count": 11,
   "metadata": {},
   "outputs": [
    {
     "name": "stdout",
     "output_type": "stream",
     "text": [
      "134952.7233333333\n"
     ]
    }
   ],
   "source": [
    "def compute_cost(X, Y, w, b):\n",
    "    m =  X.shape[0] # number of training examples\n",
    "    \n",
    "    f_wb = np.zeros(m)\n",
    "\n",
    "    for i in range(m):\n",
    "        f_wb[i] = np.dot(w, X[i]) + b\n",
    "    error = f_wb - Y\n",
    "    error = error ** 2\n",
    "    error = error.sum()\n",
    "    return error * (1/(2*m))\n",
    "print(compute_cost(X_train, y_train, w, b))\n"
   ]
  },
  {
   "attachments": {},
   "cell_type": "markdown",
   "metadata": {},
   "source": [
    "### Implement Gradient Descent"
   ]
  },
  {
   "cell_type": "code",
   "execution_count": 15,
   "metadata": {},
   "outputs": [],
   "source": [
    "m = X_train.shape[0]\n",
    "n = X_train.shape[1]\n",
    "\n",
    "@jit\n",
    "def gradient_descent(X, Y, w, b, alpha):\n",
    "\n",
    "    djdw = np.zeros(n)\n",
    "    new_w = np.zeros(n)\n",
    "    djdb = 0\n",
    "\n",
    "    for i in range(m):\n",
    "        error_i = (np.dot(w, X[i]) + b) - Y[i]\n",
    "        \n",
    "        for j in range(n):\n",
    "            djdw[j] = djdw[j] + error_i * X[i, j]\n",
    "\n",
    "        djdb = djdb + error_i\n",
    "\n",
    "    djdw = djdw / m\n",
    "    djdb = djdb / m\n",
    "    \n",
    "    for j in range(n):\n",
    "        new_w[j] = w[j] - alpha * djdw[j]\n",
    "\n",
    "    new_b = b - alpha * djdb\n",
    "    \n",
    "    return new_w, new_b\n"
   ]
  },
  {
   "cell_type": "code",
   "execution_count": 16,
   "metadata": {},
   "outputs": [],
   "source": [
    "w = np.array([0.32471104,37.4186106,-46.42460367,-23.66276843])\n",
    "700.4618575859556\n",
    "alpha = 5.0e-7\n"
   ]
  },
  {
   "cell_type": "code",
   "execution_count": 28,
   "metadata": {},
   "outputs": [],
   "source": [
    "@jit\n",
    "def run_gd(w, b):\n",
    "    for i in range(10000000):        \n",
    "        w, b = gradient_descent(X_train, y_train, w, b, alpha)\n",
    "        if i % 1000000 == 0:\n",
    "            print(compute_cost(X_train, y_train, w, b))\n",
    "    return w, b"
   ]
  },
  {
   "cell_type": "code",
   "execution_count": 29,
   "metadata": {},
   "outputs": [
    {
     "name": "stderr",
     "output_type": "stream",
     "text": [
      "/tmp/ipykernel_15035/244878099.py:1: NumbaWarning: \n",
      "Compilation is falling back to object mode WITH looplifting enabled because Function \"run_gd\" failed type inference due to: Untyped global name 'compute_cost': Cannot determine Numba type of <class 'function'>\n",
      "\n",
      "File \"../../../tmp/ipykernel_15035/244878099.py\", line 6:\n",
      "<source missing, REPL/exec in use?>\n",
      "\n",
      "  @jit\n",
      "/tmp/ipykernel_15035/244878099.py:1: NumbaWarning: \n",
      "Compilation is falling back to object mode WITHOUT looplifting enabled because Function \"run_gd\" failed type inference due to: Cannot determine Numba type of <class 'numba.core.dispatcher.LiftedLoop'>\n",
      "\n",
      "File \"../../../tmp/ipykernel_15035/244878099.py\", line 3:\n",
      "<source missing, REPL/exec in use?>\n",
      "\n",
      "  @jit\n",
      "/home/ani/ML/venv/lib/python3.10/site-packages/numba/core/object_mode_passes.py:151: NumbaWarning: Function \"run_gd\" was compiled in object mode without forceobj=True, but has lifted loops.\n",
      "\n",
      "File \"../../../tmp/ipykernel_15035/244878099.py\", line 3:\n",
      "<source missing, REPL/exec in use?>\n",
      "\n",
      "  warnings.warn(errors.NumbaWarning(warn_msg,\n",
      "/home/ani/ML/venv/lib/python3.10/site-packages/numba/core/object_mode_passes.py:161: NumbaDeprecationWarning: \n",
      "Fall-back from the nopython compilation path to the object mode compilation path has been detected, this is deprecated behaviour.\n",
      "\n",
      "For more information visit https://numba.readthedocs.io/en/stable/reference/deprecation.html#deprecation-of-object-mode-fall-back-behaviour-when-using-jit\n",
      "\n",
      "File \"../../../tmp/ipykernel_15035/244878099.py\", line 3:\n",
      "<source missing, REPL/exec in use?>\n",
      "\n",
      "  warnings.warn(errors.NumbaDeprecationWarning(msg,\n",
      "/tmp/ipykernel_15035/244878099.py:1: NumbaWarning: \n",
      "Compilation is falling back to object mode WITHOUT looplifting enabled because Function \"run_gd\" failed type inference due to: Untyped global name 'compute_cost': Cannot determine Numba type of <class 'function'>\n",
      "\n",
      "File \"../../../tmp/ipykernel_15035/244878099.py\", line 6:\n",
      "<source missing, REPL/exec in use?>\n",
      "\n",
      "  @jit\n",
      "/home/ani/ML/venv/lib/python3.10/site-packages/numba/core/object_mode_passes.py:151: NumbaWarning: Function \"run_gd\" was compiled in object mode without forceobj=True.\n",
      "\n",
      "File \"../../../tmp/ipykernel_15035/244878099.py\", line 3:\n",
      "<source missing, REPL/exec in use?>\n",
      "\n",
      "  warnings.warn(errors.NumbaWarning(warn_msg,\n",
      "/home/ani/ML/venv/lib/python3.10/site-packages/numba/core/object_mode_passes.py:161: NumbaDeprecationWarning: \n",
      "Fall-back from the nopython compilation path to the object mode compilation path has been detected, this is deprecated behaviour.\n",
      "\n",
      "For more information visit https://numba.readthedocs.io/en/stable/reference/deprecation.html#deprecation-of-object-mode-fall-back-behaviour-when-using-jit\n",
      "\n",
      "File \"../../../tmp/ipykernel_15035/244878099.py\", line 3:\n",
      "<source missing, REPL/exec in use?>\n",
      "\n",
      "  warnings.warn(errors.NumbaDeprecationWarning(msg,\n"
     ]
    },
    {
     "name": "stdout",
     "output_type": "stream",
     "text": [
      "0.21159390197000696\n",
      "0.16695707213881456\n",
      "0.13173661281231802\n",
      "0.10394609184762572\n",
      "0.08201812525558685\n",
      "0.06471597681909882\n",
      "0.05106380623314458\n",
      "0.0402916317605225\n",
      "0.031791903300410575\n",
      "0.02508523659388901\n"
     ]
    }
   ],
   "source": [
    "w, b = run_gd(w, b)"
   ]
  },
  {
   "cell_type": "code",
   "execution_count": 31,
   "metadata": {},
   "outputs": [
    {
     "name": "stdout",
     "output_type": "stream",
     "text": [
      "459.87817554974083\n"
     ]
    }
   ],
   "source": [
    "x = np.array([2104, 5, 1, 45])\n",
    "print(np.dot(w, x) + b)"
   ]
  }
 ],
 "metadata": {
  "kernelspec": {
   "display_name": "venv",
   "language": "python",
   "name": "python3"
  },
  "language_info": {
   "codemirror_mode": {
    "name": "ipython",
    "version": 3
   },
   "file_extension": ".py",
   "mimetype": "text/x-python",
   "name": "python",
   "nbconvert_exporter": "python",
   "pygments_lexer": "ipython3",
   "version": "3.10.8"
  },
  "orig_nbformat": 4,
  "vscode": {
   "interpreter": {
    "hash": "666833b06f43a36fc83fa874754fab4e00e3cd9ea4553779e35e64a315c249d8"
   }
  }
 },
 "nbformat": 4,
 "nbformat_minor": 2
}
