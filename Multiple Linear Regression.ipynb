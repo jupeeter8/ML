{
 "cells": [
  {
   "attachments": {},
   "cell_type": "markdown",
   "metadata": {},
   "source": [
    "## Goals\n",
    "In this lab, I will use numpy library to do the following\n",
    "- Create numpy n-d arrays.\n",
    "- Use vectorization to run code fater\n",
    "- Create Example dataset with multiple feature\n",
    "- Compute cost function\n",
    "- Make predictions"
   ]
  },
  {
   "cell_type": "code",
   "execution_count": 1,
   "metadata": {},
   "outputs": [],
   "source": [
    "import numpy as np"
   ]
  },
  {
   "cell_type": "code",
   "execution_count": 3,
   "metadata": {},
   "outputs": [
    {
     "name": "stdout",
     "output_type": "stream",
     "text": [
      "a = [0. 0. 0. 0.] | Shape of a: (4,)\n",
      "\n",
      "a = [0. 0. 0. 0.] | Shape of a: (4,)\n",
      "\n",
      "a = [0.39512858 0.66086857 0.26483487 0.05534756] | Shape of a: (4,)\n",
      "\n",
      "a = [[0.84126113 0.12563565]\n",
      " [0.07578974 0.08248475]\n",
      " [0.06892637 0.51898079]\n",
      " [0.85337481 0.45653364]\n",
      " [0.07877365 0.22888113]] | Shape of a: (5, 2)\n",
      "\n"
     ]
    }
   ],
   "source": [
    "# Creating np arrays\n",
    "# These functions take shape as input\n",
    "\n",
    "a = np.zeros(4) # vector of 0s of size 4\n",
    "print(f\"a = {a} | Shape of a: {a.shape}\\n\")\n",
    "\n",
    "a = np.zeros((4, )) # Takes a tupple of row and colums\n",
    "print(f\"a = {a} | Shape of a: {a.shape}\\n\")\n",
    "\n",
    "a = np.random.random_sample(4) # Vetor of random floats in the interval [0.0, 1.0)\n",
    "print(f\"a = {a} | Shape of a: {a.shape}\\n\")\n",
    "\n",
    "a = np.random.random_sample((5, 2)) # Vetor of random floats in the interval [0.0, 1.0)\n",
    "print(f\"a = {a} | Shape of a: {a.shape}\\n\")\n",
    "\n"
   ]
  },
  {
   "cell_type": "code",
   "execution_count": 9,
   "metadata": {},
   "outputs": [
    {
     "name": "stdout",
     "output_type": "stream",
     "text": [
      "a = [0 1 2 3 4 5 6 7 8 9] | Shape of a: (10,)\n",
      "\n",
      "a = [0.25843283 0.33094739 0.26605491 0.20301094 0.39002481] | Shape of a: (5,)\n",
      "\n"
     ]
    }
   ],
   "source": [
    "# Creating np arrays\n",
    "# These methods dont take shape as an input\n",
    "\n",
    "a = np.arange(10) # Vector in range [0, 10)\n",
    "print(f\"a = {a} | Shape of a: {a.shape}\\n\")\n",
    "\n",
    "a = np.random.rand(5) # 1-D Vector in range [0.0, 1.0)\n",
    "print(f\"a = {a} | Shape of a: {a.shape}\\n\")\n",
    "\n"
   ]
  },
  {
   "attachments": {},
   "cell_type": "markdown",
   "metadata": {},
   "source": [
    "##### Indexing and Slicing Operations On Numpy Arrays\n",
    "1. Indexing"
   ]
  },
  {
   "cell_type": "code",
   "execution_count": 12,
   "metadata": {},
   "outputs": [
    {
     "name": "stdout",
     "output_type": "stream",
     "text": [
      "a = [ 0  1  2  3  4  5  6  7  8  9 10 11 12 13 14 15 16 17 18 19]\n",
      "\n",
      "a[2] = 2\n",
      "\n",
      "a[-1] returns last element: 19\n",
      "\n"
     ]
    }
   ],
   "source": [
    "# Create np array and perform Indexing\n",
    "a = np.arange(20)\n",
    "print(f\"a = {a}\\n\")\n",
    "\n",
    "# Accessing an element returns a scalar\n",
    "print(f\"a[2] = {a[2]}\\n\")\n",
    "\n",
    "# Using negative numbers access numbers from the end of the arrays\n",
    "print(f\"a[-1] returns last element: {a[-1]}\\n\")"
   ]
  },
  {
   "attachments": {},
   "cell_type": "markdown",
   "metadata": {},
   "source": [
    "##### Now we will perform slicing\n",
    "2. Slicing"
   ]
  },
  {
   "cell_type": "code",
   "execution_count": 19,
   "metadata": {},
   "outputs": [
    {
     "name": "stdout",
     "output_type": "stream",
     "text": [
      "a = [ 0  1  2  3  4  5  6  7  8  9 10 11 12 13 14 15 16 17 18 19]\n",
      "\n",
      "a[3:12:1] = [ 3  4  5  6  7  8  9 10 11]\n",
      "\n",
      "a[3:12:2] = [ 3  5  7  9 11]\n",
      "\n",
      "a[3::] = [ 3  4  5  6  7  8  9 10 11 12 13 14 15 16 17 18 19]\n",
      "\n",
      "a[:3] = [0 1 2]\n",
      "\n",
      "a[3:12:1] = [ 0  1  2  3  4  5  6  7  8  9 10 11 12 13 14 15 16 17 18 19]\n",
      "\n"
     ]
    }
   ],
   "source": [
    "print(f\"a = {a}\\n\")\n",
    "# a[start:stop:step]\n",
    "\n",
    "c = a[3:12:1] # Start at index 3 and go 11\n",
    "print(f\"a[3:12:1] = {c}\\n\")\n",
    "\n",
    "# Accessing 5 elements seperated by 2\n",
    "c = a[3:12:2]\n",
    "print(f\"a[3:12:2] = {c}\\n\")\n",
    "\n",
    "# Accessing all elements 3 and above\n",
    "c = a[3::]\n",
    "print(f\"a[3::] = {c}\\n\")\n",
    "\n",
    "# Accessing all elements below index 3\n",
    "c = a[:3]\n",
    "print(f\"a[:3] = {c}\\n\")\n",
    "\n",
    "# Access all elements\n",
    "c = a[:]\n",
    "print(f\"a[3:12:1] = {c}\\n\")"
   ]
  },
  {
   "cell_type": "code",
   "execution_count": 30,
   "metadata": {},
   "outputs": [
    {
     "name": "stdout",
     "output_type": "stream",
     "text": [
      "[1 2 4]\n",
      "b = [-1 -2 -4]\n",
      "\n",
      "Sum of a is 7\n",
      "\n",
      "Mean of a is 2.3333333333333335\n",
      "square of a is [ 1  4 16]\n"
     ]
    }
   ],
   "source": [
    "a = np.array([1, 2, 4])\n",
    "print(a)\n",
    "\n",
    "b = -a\n",
    "print(f\"b = {b}\\n\")\n",
    "\n",
    "b = np.sum(a)\n",
    "print(f\"Sum of a is {b}\\n\")\n",
    "\n",
    "\n",
    "b = np.mean(a)\n",
    "print(f\"Mean of a is {b}\")\n",
    "\n",
    "b = a**2\n",
    "print(f\"square of a is {b}\")"
   ]
  },
  {
   "attachments": {},
   "cell_type": "markdown",
   "metadata": {},
   "source": [
    "### Dot Products of vectors\n",
    "In this section we will perform dot product of two Numpy vectors by two different methods\n",
    "1. `for loop`\n",
    "2. `np.dot()` method\n",
    "\n"
   ]
  },
  {
   "cell_type": "code",
   "execution_count": 2,
   "metadata": {},
   "outputs": [],
   "source": [
    "def dot_matrix(a, b) -> int:\n",
    "    \"\"\"\n",
    "    Funtion takes two Numpy array and returns\n",
    "    the sum products of all elements\n",
    "    \"\"\"\n",
    "    res = 0\n",
    "\n",
    "    for i in range(a.shape[0]):\n",
    "        res = res + a[i]  * b[i]\n",
    "    \n",
    "    return res"
   ]
  },
  {
   "cell_type": "code",
   "execution_count": 3,
   "metadata": {},
   "outputs": [
    {
     "name": "stdout",
     "output_type": "stream",
     "text": [
      "dot_matrix(a, b) = 1.4330598448459555\n",
      "np.dot(a, b) = 1.4330598448459555\n"
     ]
    }
   ],
   "source": [
    "# Testing the code\n",
    "np.random.seed(1)\n",
    "a = np.random.rand(10)\n",
    "b = np.random.rand(10)\n",
    "\n",
    "# Using our function\n",
    "print(f\"dot_matrix(a, b) = {dot_matrix(a, b)}\")\n",
    "\n",
    "# Using np.dot()\n",
    "\n",
    "print(f\"np.dot(a, b) = {np.dot(a, b)}\")"
   ]
  },
  {
   "attachments": {},
   "cell_type": "markdown",
   "metadata": {},
   "source": [
    "##### Product of really big vectors\n",
    "We can see the time differnce for the two methods if we use really big vectors"
   ]
  },
  {
   "cell_type": "code",
   "execution_count": 5,
   "metadata": {},
   "outputs": [
    {
     "name": "stdout",
     "output_type": "stream",
     "text": [
      "dot_matrix(a, b) = 25000826.979796436. Time taken = 24400.338411331177ms\n",
      "np.dot(a, b) = 25000826.979787175. Time taken = 86.26317977905273ms\n"
     ]
    }
   ],
   "source": [
    "import time\n",
    "a = np.random.rand(10000000)\n",
    "b = np.random.rand(10000000)\n",
    "\n",
    "# Using Our funciton\n",
    "tic = time.time()\n",
    "c = dot_matrix(a, b)\n",
    "toc = time.time()\n",
    "print(f\"dot_matrix(a, b) = {c}. Time taken = {(toc-tic) * 1000}ms\")\n",
    "\n",
    "# Using np.dot()\n",
    "\n",
    "tic = time.time()\n",
    "c = np.dot(a, b)\n",
    "toc = time.time()\n",
    "print(f\"np.dot(a, b) = {c}. Time taken = {(toc-tic) * 1000}ms\")"
   ]
  },
  {
   "cell_type": "code",
   "execution_count": null,
   "metadata": {},
   "outputs": [],
   "source": []
  }
 ],
 "metadata": {
  "kernelspec": {
   "display_name": "venv",
   "language": "python",
   "name": "python3"
  },
  "language_info": {
   "codemirror_mode": {
    "name": "ipython",
    "version": 3
   },
   "file_extension": ".py",
   "mimetype": "text/x-python",
   "name": "python",
   "nbconvert_exporter": "python",
   "pygments_lexer": "ipython3",
   "version": "3.10.8"
  },
  "orig_nbformat": 4,
  "vscode": {
   "interpreter": {
    "hash": "666833b06f43a36fc83fa874754fab4e00e3cd9ea4553779e35e64a315c249d8"
   }
  }
 },
 "nbformat": 4,
 "nbformat_minor": 2
}
